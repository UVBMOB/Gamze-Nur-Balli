{
 "cells": [
  {
   "cell_type": "code",
   "execution_count": 98,
   "metadata": {},
   "outputs": [
    {
     "data": {
      "text/html": [
       "<div>\n",
       "<style scoped>\n",
       "    .dataframe tbody tr th:only-of-type {\n",
       "        vertical-align: middle;\n",
       "    }\n",
       "\n",
       "    .dataframe tbody tr th {\n",
       "        vertical-align: top;\n",
       "    }\n",
       "\n",
       "    .dataframe thead th {\n",
       "        text-align: right;\n",
       "    }\n",
       "</style>\n",
       "<table border=\"1\" class=\"dataframe\">\n",
       "  <thead>\n",
       "    <tr style=\"text-align: right;\">\n",
       "      <th></th>\n",
       "      <th>bad</th>\n",
       "      <th>loan</th>\n",
       "      <th>mortdue</th>\n",
       "      <th>value</th>\n",
       "      <th>reason</th>\n",
       "      <th>job</th>\n",
       "      <th>yoj</th>\n",
       "      <th>derog</th>\n",
       "      <th>delinq</th>\n",
       "      <th>clage</th>\n",
       "      <th>ninq</th>\n",
       "      <th>clno</th>\n",
       "      <th>debtinc</th>\n",
       "    </tr>\n",
       "  </thead>\n",
       "  <tbody>\n",
       "    <tr>\n",
       "      <th>0</th>\n",
       "      <td>0</td>\n",
       "      <td>81200</td>\n",
       "      <td>18834.0</td>\n",
       "      <td>108355.0</td>\n",
       "      <td>HomeImp</td>\n",
       "      <td>NaN</td>\n",
       "      <td>28.0</td>\n",
       "      <td>0.0</td>\n",
       "      <td>0.0</td>\n",
       "      <td>139.14</td>\n",
       "      <td>0.0</td>\n",
       "      <td>14.0</td>\n",
       "      <td>34.042</td>\n",
       "    </tr>\n",
       "    <tr>\n",
       "      <th>1</th>\n",
       "      <td>0</td>\n",
       "      <td>12600</td>\n",
       "      <td>103960.0</td>\n",
       "      <td>127384.0</td>\n",
       "      <td>DebtCon</td>\n",
       "      <td>NaN</td>\n",
       "      <td>2.0</td>\n",
       "      <td>0.0</td>\n",
       "      <td>0.0</td>\n",
       "      <td>129.02</td>\n",
       "      <td>0.0</td>\n",
       "      <td>25.0</td>\n",
       "      <td>34.479</td>\n",
       "    </tr>\n",
       "    <tr>\n",
       "      <th>2</th>\n",
       "      <td>0</td>\n",
       "      <td>18000</td>\n",
       "      <td>46865.0</td>\n",
       "      <td>61266.0</td>\n",
       "      <td>DebtCon</td>\n",
       "      <td>NaN</td>\n",
       "      <td>5.0</td>\n",
       "      <td>0.0</td>\n",
       "      <td>0.0</td>\n",
       "      <td>102.59</td>\n",
       "      <td>2.0</td>\n",
       "      <td>9.0</td>\n",
       "      <td>26.354</td>\n",
       "    </tr>\n",
       "    <tr>\n",
       "      <th>3</th>\n",
       "      <td>0</td>\n",
       "      <td>10300</td>\n",
       "      <td>57676.0</td>\n",
       "      <td>71027.0</td>\n",
       "      <td>DebtCon</td>\n",
       "      <td>NaN</td>\n",
       "      <td>19.0</td>\n",
       "      <td>0.0</td>\n",
       "      <td>0.0</td>\n",
       "      <td>157.52</td>\n",
       "      <td>1.0</td>\n",
       "      <td>11.0</td>\n",
       "      <td>33.992</td>\n",
       "    </tr>\n",
       "    <tr>\n",
       "      <th>4</th>\n",
       "      <td>0</td>\n",
       "      <td>9400</td>\n",
       "      <td>56508.0</td>\n",
       "      <td>78358.0</td>\n",
       "      <td>DebtCon</td>\n",
       "      <td>NaN</td>\n",
       "      <td>17.0</td>\n",
       "      <td>0.0</td>\n",
       "      <td>0.0</td>\n",
       "      <td>141.93</td>\n",
       "      <td>0.0</td>\n",
       "      <td>11.0</td>\n",
       "      <td>32.327</td>\n",
       "    </tr>\n",
       "  </tbody>\n",
       "</table>\n",
       "</div>"
      ],
      "text/plain": [
       "   bad   loan   mortdue     value   reason  job   yoj  derog  delinq   clage  \\\n",
       "0    0  81200   18834.0  108355.0  HomeImp  NaN  28.0    0.0     0.0  139.14   \n",
       "1    0  12600  103960.0  127384.0  DebtCon  NaN   2.0    0.0     0.0  129.02   \n",
       "2    0  18000   46865.0   61266.0  DebtCon  NaN   5.0    0.0     0.0  102.59   \n",
       "3    0  10300   57676.0   71027.0  DebtCon  NaN  19.0    0.0     0.0  157.52   \n",
       "4    0   9400   56508.0   78358.0  DebtCon  NaN  17.0    0.0     0.0  141.93   \n",
       "\n",
       "   ninq  clno  debtinc  \n",
       "0   0.0  14.0   34.042  \n",
       "1   0.0  25.0   34.479  \n",
       "2   2.0   9.0   26.354  \n",
       "3   1.0  11.0   33.992  \n",
       "4   0.0  11.0   32.327  "
      ]
     },
     "execution_count": 98,
     "metadata": {},
     "output_type": "execute_result"
    }
   ],
   "source": [
    "import pandas \n",
    "hmelq = pandas.read_csv(\"hmelq.csv\")\n",
    "hmelq.head()"
   ]
  },
  {
   "cell_type": "code",
   "execution_count": 99,
   "metadata": {},
   "outputs": [],
   "source": [
    "hmelq = hmelq.dropna()  "
   ]
  },
  {
   "cell_type": "code",
   "execution_count": 100,
   "metadata": {},
   "outputs": [
    {
     "data": {
      "text/plain": [
       "False"
      ]
     },
     "execution_count": 100,
     "metadata": {},
     "output_type": "execute_result"
    }
   ],
   "source": [
    "hmelq.isnull().values.any()"
   ]
  },
  {
   "cell_type": "code",
   "execution_count": 101,
   "metadata": {},
   "outputs": [],
   "source": [
    "bad = hmelq[hmelq['bad'] == 1]\n",
    "good = hmelq[hmelq['bad'] == 0]"
   ]
  },
  {
   "cell_type": "code",
   "execution_count": 102,
   "metadata": {},
   "outputs": [],
   "source": [
    "#Normal dağılımdan gelip gelmediğini test ediyorum"
   ]
  },
  {
   "cell_type": "code",
   "execution_count": 103,
   "metadata": {},
   "outputs": [
    {
     "name": "stdout",
     "output_type": "stream",
     "text": [
      "GRUP_A: Statistics=0.904, p=0.000\n",
      "örneklem model nromal(Gausssian) dağılımdan gelmemektedir (reject H0)\n"
     ]
    }
   ],
   "source": [
    "from scipy.stats import shapiro \n",
    "stat, p = shapiro(bad.loan)\n",
    "print('GRUP_A:','Statistics=%.3f, p=%.3f' % (stat,p))  #Statistics alanı veren nokta\n",
    "\n",
    "alpha=0.05\n",
    "if p>alpha:\n",
    "    print('örneklem model normal(Gaussian) dağılımdan gelmektedir (Fall to reject)')\n",
    "else:\n",
    "    print('örneklem model nromal(Gausssian) dağılımdan gelmemektedir (reject H0)')"
   ]
  },
  {
   "cell_type": "code",
   "execution_count": 104,
   "metadata": {},
   "outputs": [
    {
     "name": "stdout",
     "output_type": "stream",
     "text": [
      "GRUP_A: Statistics=0.825, p=0.000\n",
      "örneklem model nromal(Gausssian) dağılımdan gelmemektedir (reject H0)\n"
     ]
    }
   ],
   "source": [
    "from scipy.stats import shapiro \n",
    "stat, p = shapiro(good.loan)\n",
    "print('GRUP_A:','Statistics=%.3f, p=%.3f' % (stat,p))  #Statistics alanı veren nokta\n",
    "\n",
    "alpha=0.05\n",
    "if p>alpha:\n",
    "    print('örneklem model normal(Gaussian) dağılımdan gelmektedir (Fall to reject)')\n",
    "else:\n",
    "    print('örneklem model nromal(Gausssian) dağılımdan gelmemektedir (reject H0)')"
   ]
  },
  {
   "cell_type": "code",
   "execution_count": 105,
   "metadata": {},
   "outputs": [],
   "source": [
    "#varyans testi levene "
   ]
  },
  {
   "cell_type": "code",
   "execution_count": 106,
   "metadata": {},
   "outputs": [
    {
     "name": "stdout",
     "output_type": "stream",
     "text": [
      "Statistics=2.395, p=0.122\n",
      "örneklem Sabit Varyansa sabittir (Fall to reject)\n"
     ]
    }
   ],
   "source": [
    "from scipy.stats import levene\n",
    "stat, p = levene(bad.loan, good.loan) #equal variance test\n",
    "print('Statistics=%.3f, p=%.3f' % (stat,p))\n",
    "#interpret\n",
    "alpha=0.05\n",
    "if p>alpha:\n",
    "    print('örneklem Sabit Varyansa sabittir (Fall to reject)')\n",
    "else:\n",
    "    print('örneklem Sabit Varyansa sabit değildir (reject H0)')"
   ]
  },
  {
   "cell_type": "code",
   "execution_count": 107,
   "metadata": {},
   "outputs": [],
   "source": [
    "#t test yapıyoruz"
   ]
  },
  {
   "cell_type": "code",
   "execution_count": 108,
   "metadata": {},
   "outputs": [],
   "source": [
    "from scipy import stats"
   ]
  },
  {
   "cell_type": "code",
   "execution_count": 109,
   "metadata": {},
   "outputs": [
    {
     "data": {
      "text/plain": [
       "Ttest_indResult(statistic=-1.176054303533842, pvalue=0.23971203285250864)"
      ]
     },
     "execution_count": 109,
     "metadata": {},
     "output_type": "execute_result"
    }
   ],
   "source": [
    "stats.ttest_ind(bad.loan, good.loan, equal_var = True)"
   ]
  },
  {
   "cell_type": "code",
   "execution_count": 110,
   "metadata": {},
   "outputs": [],
   "source": [
    "#hepsi için yapp"
   ]
  },
  {
   "cell_type": "code",
   "execution_count": 111,
   "metadata": {},
   "outputs": [
    {
     "name": "stdout",
     "output_type": "stream",
     "text": [
      "GRUP_A: Statistics=0.753, p=0.000\n",
      "örneklem model nromal(Gausssian) dağılımdan gelmemektedir (reject H0)\n"
     ]
    }
   ],
   "source": [
    "from scipy.stats import shapiro \n",
    "stat, p = shapiro(bad.mortdue)\n",
    "print('GRUP_A:','Statistics=%.3f, p=%.3f' % (stat,p))  #Statistics alanı veren nokta\n",
    "\n",
    "alpha=0.05\n",
    "if p>alpha:\n",
    "    print('örneklem model normal(Gaussian) dağılımdan gelmektedir (Fall to reject)')\n",
    "else:\n",
    "    print('örneklem model nromal(Gausssian) dağılımdan gelmemektedir (reject H0)')"
   ]
  },
  {
   "cell_type": "code",
   "execution_count": 112,
   "metadata": {},
   "outputs": [
    {
     "name": "stdout",
     "output_type": "stream",
     "text": [
      "GRUP_A: Statistics=0.876, p=0.000\n",
      "örneklem model nromal(Gausssian) dağılımdan gelmemektedir (reject H0)\n"
     ]
    }
   ],
   "source": [
    "from scipy.stats import shapiro \n",
    "stat, p = shapiro(good.mortdue)\n",
    "print('GRUP_A:','Statistics=%.3f, p=%.3f' % (stat,p))  #Statistics alanı veren nokta\n",
    "\n",
    "alpha=0.05\n",
    "if p>alpha:\n",
    "    print('örneklem model normal(Gaussian) dağılımdan gelmektedir (Fall to reject)')\n",
    "else:\n",
    "    print('örneklem model nromal(Gausssian) dağılımdan gelmemektedir (reject H0)')"
   ]
  },
  {
   "cell_type": "code",
   "execution_count": 113,
   "metadata": {},
   "outputs": [
    {
     "name": "stdout",
     "output_type": "stream",
     "text": [
      "Statistics=2.307, p=0.129\n",
      "örneklem Sabit Varyansa sabittir (Fall to reject)\n"
     ]
    }
   ],
   "source": [
    "from scipy.stats import levene\n",
    "stat, p = levene(bad.mortdue, good.mortdue) #equal variance test\n",
    "print('Statistics=%.3f, p=%.3f' % (stat,p))\n",
    "#interpret\n",
    "alpha=0.05\n",
    "if p>alpha:\n",
    "    print('örneklem Sabit Varyansa sabittir (Fall to reject)')\n",
    "else:\n",
    "    print('örneklem Sabit Varyansa sabit değildir (reject H0)')"
   ]
  },
  {
   "cell_type": "code",
   "execution_count": 114,
   "metadata": {},
   "outputs": [
    {
     "data": {
      "text/plain": [
       "Ttest_indResult(statistic=-1.127470718824357, pvalue=0.259677683857574)"
      ]
     },
     "execution_count": 114,
     "metadata": {},
     "output_type": "execute_result"
    }
   ],
   "source": [
    "stats.ttest_ind(bad.mortdue, good.mortdue, equal_var = True)"
   ]
  },
  {
   "cell_type": "code",
   "execution_count": 115,
   "metadata": {},
   "outputs": [
    {
     "name": "stdout",
     "output_type": "stream",
     "text": [
      "GRUP_A: Statistics=0.735, p=0.000\n",
      "örneklem model nromal(Gausssian) dağılımdan gelmemektedir (reject H0)\n"
     ]
    }
   ],
   "source": [
    "from scipy.stats import shapiro \n",
    "stat, p = shapiro(bad.value)\n",
    "print('GRUP_A:','Statistics=%.3f, p=%.3f' % (stat,p))  #Statistics alanı veren nokta\n",
    "\n",
    "alpha=0.05\n",
    "if p>alpha:\n",
    "    print('örneklem model normal(Gaussian) dağılımdan gelmektedir (Fall to reject)')\n",
    "else:\n",
    "    print('örneklem model nromal(Gausssian) dağılımdan gelmemektedir (reject H0)')"
   ]
  },
  {
   "cell_type": "code",
   "execution_count": 116,
   "metadata": {},
   "outputs": [
    {
     "name": "stdout",
     "output_type": "stream",
     "text": [
      "GRUP_A: Statistics=0.857, p=0.000\n",
      "örneklem model nromal(Gausssian) dağılımdan gelmemektedir (reject H0)\n"
     ]
    }
   ],
   "source": [
    "from scipy.stats import shapiro \n",
    "stat, p = shapiro(good.value)\n",
    "print('GRUP_A:','Statistics=%.3f, p=%.3f' % (stat,p))  #Statistics alanı veren nokta\n",
    "\n",
    "alpha=0.05\n",
    "if p>alpha:\n",
    "    print('örneklem model normal(Gaussian) dağılımdan gelmektedir (Fall to reject)')\n",
    "else:\n",
    "    print('örneklem model nromal(Gausssian) dağılımdan gelmemektedir (reject H0)')"
   ]
  },
  {
   "cell_type": "code",
   "execution_count": 117,
   "metadata": {},
   "outputs": [
    {
     "name": "stdout",
     "output_type": "stream",
     "text": [
      "Statistics=3.991, p=0.046\n",
      "örneklem Sabit Varyansa sabit değildir (reject H0)\n"
     ]
    }
   ],
   "source": [
    "from scipy.stats import levene\n",
    "stat, p = levene(bad.value, good.value) #equal variance test\n",
    "print('Statistics=%.3f, p=%.3f' % (stat,p))\n",
    "#interpret\n",
    "alpha=0.05\n",
    "if p>alpha:\n",
    "    print('örneklem Sabit Varyansa sabittir (Fall to reject)')\n",
    "else:\n",
    "    print('örneklem Sabit Varyansa sabit değildir (reject H0)')\n"
   ]
  },
  {
   "cell_type": "code",
   "execution_count": 118,
   "metadata": {},
   "outputs": [
    {
     "data": {
      "text/plain": [
       "Ttest_indResult(statistic=-1.1223807598767526, pvalue=0.26306533335850973)"
      ]
     },
     "execution_count": 118,
     "metadata": {},
     "output_type": "execute_result"
    }
   ],
   "source": [
    "stats.ttest_ind(bad.value, good.value, equal_var = False)\n",
    "#varyans sabit olmadıpından false"
   ]
  },
  {
   "cell_type": "code",
   "execution_count": 119,
   "metadata": {},
   "outputs": [
    {
     "name": "stdout",
     "output_type": "stream",
     "text": [
      "GRUP_A: Statistics=0.877, p=0.000\n",
      "örneklem model nromal(Gausssian) dağılımdan gelmemektedir (reject H0)\n"
     ]
    }
   ],
   "source": [
    "from scipy.stats import shapiro \n",
    "stat, p = shapiro(bad.yoj)\n",
    "print('GRUP_A:','Statistics=%.3f, p=%.3f' % (stat,p))  #Statistics alanı veren nokta\n",
    "\n",
    "alpha=0.05\n",
    "if p>alpha:\n",
    "    print('örneklem model normal(Gaussian) dağılımdan gelmektedir (Fall to reject)')\n",
    "else:\n",
    "    print('örneklem model nromal(Gausssian) dağılımdan gelmemektedir (reject H0)')"
   ]
  },
  {
   "cell_type": "code",
   "execution_count": 120,
   "metadata": {},
   "outputs": [
    {
     "name": "stdout",
     "output_type": "stream",
     "text": [
      "GRUP_A: Statistics=0.914, p=0.000\n",
      "örneklem model nromal(Gausssian) dağılımdan gelmemektedir (reject H0)\n"
     ]
    }
   ],
   "source": [
    "from scipy.stats import shapiro \n",
    "stat, p = shapiro(good.yoj)\n",
    "print('GRUP_A:','Statistics=%.3f, p=%.3f' % (stat,p))  #Statistics alanı veren nokta\n",
    "\n",
    "alpha=0.05\n",
    "if p>alpha:\n",
    "    print('örneklem model normal(Gaussian) dağılımdan gelmektedir (Fall to reject)')\n",
    "else:\n",
    "    print('örneklem model nromal(Gausssian) dağılımdan gelmemektedir (reject H0)')"
   ]
  },
  {
   "cell_type": "code",
   "execution_count": 121,
   "metadata": {},
   "outputs": [
    {
     "name": "stdout",
     "output_type": "stream",
     "text": [
      "Statistics=4.210, p=0.040\n",
      "örneklem Sabit Varyansa sabit değildir (reject H0)\n"
     ]
    }
   ],
   "source": [
    "from scipy.stats import levene\n",
    "stat, p = levene(bad.yoj, good.yoj) #equal variance test\n",
    "print('Statistics=%.3f, p=%.3f' % (stat,p))\n",
    "#interpret\n",
    "alpha=0.05\n",
    "if p>alpha:\n",
    "    print('örneklem Sabit Varyansa sabittir (Fall to reject)')\n",
    "else:\n",
    "    print('örneklem Sabit Varyansa sabit değildir (reject H0)')"
   ]
  },
  {
   "cell_type": "code",
   "execution_count": 122,
   "metadata": {},
   "outputs": [
    {
     "data": {
      "text/plain": [
       "Ttest_indResult(statistic=-2.480972914900549, pvalue=0.013849139501292915)"
      ]
     },
     "execution_count": 122,
     "metadata": {},
     "output_type": "execute_result"
    }
   ],
   "source": [
    "stats.ttest_ind(bad.yoj, good.yoj, equal_var = False)"
   ]
  },
  {
   "cell_type": "code",
   "execution_count": 123,
   "metadata": {},
   "outputs": [
    {
     "name": "stdout",
     "output_type": "stream",
     "text": [
      "GRUP_A: Statistics=0.477, p=0.000\n",
      "örneklem model nromal(Gausssian) dağılımdan gelmemektedir (reject H0)\n"
     ]
    }
   ],
   "source": [
    "from scipy.stats import shapiro \n",
    "stat, p = shapiro(bad.derog)\n",
    "print('GRUP_A:','Statistics=%.3f, p=%.3f' % (stat,p))  #Statistics alanı veren nokta\n",
    "\n",
    "alpha=0.05\n",
    "if p>alpha:\n",
    "    print('örneklem model normal(Gaussian) dağılımdan gelmektedir (Fall to reject)')\n",
    "else:\n",
    "    print('örneklem model nromal(Gausssian) dağılımdan gelmemektedir (reject H0)')"
   ]
  },
  {
   "cell_type": "code",
   "execution_count": 124,
   "metadata": {},
   "outputs": [
    {
     "name": "stdout",
     "output_type": "stream",
     "text": [
      "GRUP_A: Statistics=0.299, p=0.000\n",
      "örneklem model nromal(Gausssian) dağılımdan gelmemektedir (reject H0)\n"
     ]
    }
   ],
   "source": [
    "from scipy.stats import shapiro \n",
    "stat, p = shapiro(good.derog)\n",
    "print('GRUP_A:','Statistics=%.3f, p=%.3f' % (stat,p))  #Statistics alanı veren nokta\n",
    "\n",
    "alpha=0.05\n",
    "if p>alpha:\n",
    "    print('örneklem model normal(Gaussian) dağılımdan gelmektedir (Fall to reject)')\n",
    "else:\n",
    "    print('örneklem model nromal(Gausssian) dağılımdan gelmemektedir (reject H0)')"
   ]
  },
  {
   "cell_type": "code",
   "execution_count": 125,
   "metadata": {},
   "outputs": [
    {
     "name": "stdout",
     "output_type": "stream",
     "text": [
      "Statistics=118.586, p=0.000\n",
      "örneklem Sabit Varyansa sabit değildir (reject H0)\n"
     ]
    }
   ],
   "source": [
    "from scipy.stats import levene\n",
    "stat, p = levene(bad.derog, good.derog) #equal variance test\n",
    "print('Statistics=%.3f, p=%.3f' % (stat,p))\n",
    "#interpret\n",
    "alpha=0.05\n",
    "if p>alpha:\n",
    "    print('örneklem Sabit Varyansa sabittir (Fall to reject)')\n",
    "else:\n",
    "    print('örneklem Sabit Varyansa sabit değildir (reject H0)')"
   ]
  },
  {
   "cell_type": "code",
   "execution_count": 126,
   "metadata": {},
   "outputs": [
    {
     "data": {
      "text/plain": [
       "Ttest_indResult(statistic=4.501158640014713, pvalue=1.2121455847892433e-05)"
      ]
     },
     "execution_count": 126,
     "metadata": {},
     "output_type": "execute_result"
    }
   ],
   "source": [
    "stats.ttest_ind(bad.derog, good.derog, equal_var = False)"
   ]
  },
  {
   "cell_type": "code",
   "execution_count": 127,
   "metadata": {},
   "outputs": [
    {
     "name": "stdout",
     "output_type": "stream",
     "text": [
      "GRUP_A: Statistics=0.620, p=0.000\n",
      "örneklem model nromal(Gausssian) dağılımdan gelmemektedir (reject H0)\n"
     ]
    }
   ],
   "source": [
    "from scipy.stats import shapiro \n",
    "stat, p = shapiro(bad.delinq)\n",
    "print('GRUP_A:','Statistics=%.3f, p=%.3f' % (stat,p))  #Statistics alanı veren nokta\n",
    "\n",
    "alpha=0.05\n",
    "if p>alpha:\n",
    "    print('örneklem model normal(Gaussian) dağılımdan gelmektedir (Fall to reject)')\n",
    "else:\n",
    "    print('örneklem model nromal(Gausssian) dağılımdan gelmemektedir (reject H0)')"
   ]
  },
  {
   "cell_type": "code",
   "execution_count": 128,
   "metadata": {},
   "outputs": [
    {
     "name": "stdout",
     "output_type": "stream",
     "text": [
      "GRUP_A: Statistics=0.390, p=0.000\n",
      "örneklem model nromal(Gausssian) dağılımdan gelmemektedir (reject H0)\n"
     ]
    }
   ],
   "source": [
    "from scipy.stats import shapiro \n",
    "stat, p = shapiro(good.delinq)\n",
    "print('GRUP_A:','Statistics=%.3f, p=%.3f' % (stat,p))  #Statistics alanı veren nokta\n",
    "\n",
    "alpha=0.05\n",
    "if p>alpha:\n",
    "    print('örneklem model normal(Gaussian) dağılımdan gelmektedir (Fall to reject)')\n",
    "else:\n",
    "    print('örneklem model nromal(Gausssian) dağılımdan gelmemektedir (reject H0)')"
   ]
  },
  {
   "cell_type": "code",
   "execution_count": 129,
   "metadata": {},
   "outputs": [
    {
     "name": "stdout",
     "output_type": "stream",
     "text": [
      "Statistics=172.844, p=0.000\n",
      "örneklem Sabit Varyansa sabit değildir (reject H0)\n"
     ]
    }
   ],
   "source": [
    "from scipy.stats import levene\n",
    "stat, p = levene(bad.delinq, good.delinq) #equal variance test\n",
    "print('Statistics=%.3f, p=%.3f' % (stat,p))\n",
    "#interpret\n",
    "alpha=0.05\n",
    "if p>alpha:\n",
    "    print('örneklem Sabit Varyansa sabittir (Fall to reject)')\n",
    "else:\n",
    "    print('örneklem Sabit Varyansa sabit değildir (reject H0)')"
   ]
  },
  {
   "cell_type": "code",
   "execution_count": 130,
   "metadata": {},
   "outputs": [
    {
     "data": {
      "text/plain": [
       "Ttest_indResult(statistic=5.8198065863200465, pvalue=2.6388181386785144e-08)"
      ]
     },
     "execution_count": 130,
     "metadata": {},
     "output_type": "execute_result"
    }
   ],
   "source": [
    "stats.ttest_ind(bad.delinq, good.delinq, equal_var = False)"
   ]
  },
  {
   "cell_type": "code",
   "execution_count": 131,
   "metadata": {},
   "outputs": [
    {
     "name": "stdout",
     "output_type": "stream",
     "text": [
      "GRUP_A: Statistics=0.671, p=0.000\n",
      "örneklem model nromal(Gausssian) dağılımdan gelmemektedir (reject H0)\n"
     ]
    }
   ],
   "source": [
    "from scipy.stats import shapiro \n",
    "stat, p = shapiro(bad.clage)\n",
    "print('GRUP_A:','Statistics=%.3f, p=%.3f' % (stat,p))  #Statistics alanı veren nokta\n",
    "\n",
    "alpha=0.05\n",
    "if p>alpha:\n",
    "    print('örneklem model normal(Gaussian) dağılımdan gelmektedir (Fall to reject)')\n",
    "else:\n",
    "    print('örneklem model nromal(Gausssian) dağılımdan gelmemektedir (reject H0)')"
   ]
  },
  {
   "cell_type": "code",
   "execution_count": 132,
   "metadata": {},
   "outputs": [
    {
     "name": "stdout",
     "output_type": "stream",
     "text": [
      "GRUP_A: Statistics=0.934, p=0.000\n",
      "örneklem model nromal(Gausssian) dağılımdan gelmemektedir (reject H0)\n"
     ]
    }
   ],
   "source": [
    "from scipy.stats import shapiro \n",
    "stat, p = shapiro(good.clage)\n",
    "print('GRUP_A:','Statistics=%.3f, p=%.3f' % (stat,p))  #Statistics alanı veren nokta\n",
    "\n",
    "alpha=0.05\n",
    "if p>alpha:\n",
    "    print('örneklem model normal(Gaussian) dağılımdan gelmektedir (Fall to reject)')\n",
    "else:\n",
    "    print('örneklem model nromal(Gausssian) dağılımdan gelmemektedir (reject H0)')"
   ]
  },
  {
   "cell_type": "code",
   "execution_count": 133,
   "metadata": {},
   "outputs": [
    {
     "name": "stdout",
     "output_type": "stream",
     "text": [
      "Statistics=0.008, p=0.927\n",
      "örneklem Sabit Varyansa sabittir (Fall to reject)\n"
     ]
    }
   ],
   "source": [
    "from scipy.stats import levene\n",
    "stat, p = levene(bad.clage, good.clage) #equal variance test\n",
    "print('Statistics=%.3f, p=%.3f' % (stat,p))\n",
    "#interpret\n",
    "alpha=0.05\n",
    "if p>alpha:\n",
    "    print('örneklem Sabit Varyansa sabittir (Fall to reject)')\n",
    "else:\n",
    "    print('örneklem Sabit Varyansa sabit değildir (reject H0)')"
   ]
  },
  {
   "cell_type": "code",
   "execution_count": 134,
   "metadata": {},
   "outputs": [
    {
     "data": {
      "text/plain": [
       "Ttest_indResult(statistic=-4.095196509252307, pvalue=4.384740676245088e-05)"
      ]
     },
     "execution_count": 134,
     "metadata": {},
     "output_type": "execute_result"
    }
   ],
   "source": [
    "stats.ttest_ind(bad.clage, good.clage, equal_var = True)"
   ]
  },
  {
   "cell_type": "code",
   "execution_count": 135,
   "metadata": {},
   "outputs": [
    {
     "name": "stdout",
     "output_type": "stream",
     "text": [
      "GRUP_A: Statistics=0.740, p=0.000\n",
      "örneklem model nromal(Gausssian) dağılımdan gelmemektedir (reject H0)\n"
     ]
    }
   ],
   "source": [
    "from scipy.stats import shapiro \n",
    "stat, p = shapiro(bad.ninq)\n",
    "print('GRUP_A:','Statistics=%.3f, p=%.3f' % (stat,p))  #Statistics alanı veren nokta\n",
    "\n",
    "alpha=0.05\n",
    "if p>alpha:\n",
    "    print('örneklem model normal(Gaussian) dağılımdan gelmektedir (Fall to reject)')\n",
    "else:\n",
    "    print('örneklem model nromal(Gausssian) dağılımdan gelmemektedir (reject H0)')"
   ]
  },
  {
   "cell_type": "code",
   "execution_count": 136,
   "metadata": {},
   "outputs": [
    {
     "name": "stdout",
     "output_type": "stream",
     "text": [
      "GRUP_A: Statistics=0.665, p=0.000\n",
      "örneklem model nromal(Gausssian) dağılımdan gelmemektedir (reject H0)\n"
     ]
    }
   ],
   "source": [
    "from scipy.stats import shapiro \n",
    "stat, p = shapiro(good.ninq)\n",
    "print('GRUP_A:','Statistics=%.3f, p=%.3f' % (stat,p))  #Statistics alanı veren nokta\n",
    "\n",
    "alpha=0.05\n",
    "if p>alpha:\n",
    "    print('örneklem model normal(Gaussian) dağılımdan gelmektedir (Fall to reject)')\n",
    "else:\n",
    "    print('örneklem model nromal(Gausssian) dağılımdan gelmemektedir (reject H0)')"
   ]
  },
  {
   "cell_type": "code",
   "execution_count": 137,
   "metadata": {},
   "outputs": [
    {
     "name": "stdout",
     "output_type": "stream",
     "text": [
      "Statistics=19.275, p=0.000\n",
      "örneklem Sabit Varyansa sabit değildir (reject H0)\n"
     ]
    }
   ],
   "source": [
    "from scipy.stats import levene\n",
    "stat, p = levene(bad.ninq, good.ninq) #equal variance test\n",
    "print('Statistics=%.3f, p=%.3f' % (stat,p))\n",
    "#interpret\n",
    "alpha=0.05\n",
    "if p>alpha:\n",
    "    print('örneklem Sabit Varyansa sabittir (Fall to reject)')\n",
    "else:\n",
    "    print('örneklem Sabit Varyansa sabit değildir (reject H0)')"
   ]
  },
  {
   "cell_type": "code",
   "execution_count": 138,
   "metadata": {},
   "outputs": [
    {
     "data": {
      "text/plain": [
       "Ttest_indResult(statistic=3.5940889880308466, pvalue=0.00041337689944607396)"
      ]
     },
     "execution_count": 138,
     "metadata": {},
     "output_type": "execute_result"
    }
   ],
   "source": [
    "stats.ttest_ind(bad.ninq, good.ninq, equal_var = False)"
   ]
  },
  {
   "cell_type": "code",
   "execution_count": 139,
   "metadata": {},
   "outputs": [
    {
     "name": "stdout",
     "output_type": "stream",
     "text": [
      "GRUP_A: Statistics=0.946, p=0.000\n",
      "örneklem model nromal(Gausssian) dağılımdan gelmemektedir (reject H0)\n"
     ]
    }
   ],
   "source": [
    "from scipy.stats import shapiro \n",
    "stat, p = shapiro(bad.clno)\n",
    "print('GRUP_A:','Statistics=%.3f, p=%.3f' % (stat,p))  #Statistics alanı veren nokta\n",
    "\n",
    "alpha=0.05\n",
    "if p>alpha:\n",
    "    print('örneklem model normal(Gaussian) dağılımdan gelmektedir (Fall to reject)')\n",
    "else:\n",
    "    print('örneklem model nromal(Gausssian) dağılımdan gelmemektedir (reject H0)')"
   ]
  },
  {
   "cell_type": "code",
   "execution_count": 140,
   "metadata": {},
   "outputs": [
    {
     "name": "stdout",
     "output_type": "stream",
     "text": [
      "GRUP_A: Statistics=0.965, p=0.000\n",
      "örneklem model nromal(Gausssian) dağılımdan gelmemektedir (reject H0)\n"
     ]
    }
   ],
   "source": [
    "from scipy.stats import shapiro \n",
    "stat, p = shapiro(good.clno)\n",
    "print('GRUP_A:','Statistics=%.3f, p=%.3f' % (stat,p))  #Statistics alanı veren nokta\n",
    "\n",
    "alpha=0.05\n",
    "if p>alpha:\n",
    "    print('örneklem model normal(Gaussian) dağılımdan gelmektedir (Fall to reject)')\n",
    "else:\n",
    "    print('örneklem model nromal(Gausssian) dağılımdan gelmemektedir (reject H0)')"
   ]
  },
  {
   "cell_type": "code",
   "execution_count": 141,
   "metadata": {},
   "outputs": [
    {
     "name": "stdout",
     "output_type": "stream",
     "text": [
      "Statistics=9.247, p=0.002\n",
      "örneklem Sabit Varyansa sabit değildir (reject H0)\n"
     ]
    }
   ],
   "source": [
    "from scipy.stats import levene\n",
    "stat, p = levene(bad.clno, good.clno) #equal variance test\n",
    "print('Statistics=%.3f, p=%.3f' % (stat,p))\n",
    "#interpret\n",
    "alpha=0.05\n",
    "if p>alpha:\n",
    "    print('örneklem Sabit Varyansa sabittir (Fall to reject)')\n",
    "else:\n",
    "    print('örneklem Sabit Varyansa sabit değildir (reject H0)')"
   ]
  },
  {
   "cell_type": "code",
   "execution_count": 142,
   "metadata": {},
   "outputs": [
    {
     "data": {
      "text/plain": [
       "Ttest_indResult(statistic=-0.46774354234457666, pvalue=0.6404795826281853)"
      ]
     },
     "execution_count": 142,
     "metadata": {},
     "output_type": "execute_result"
    }
   ],
   "source": [
    "stats.ttest_ind(bad.clno, good.clno, equal_var = False)"
   ]
  },
  {
   "cell_type": "code",
   "execution_count": 143,
   "metadata": {},
   "outputs": [
    {
     "name": "stdout",
     "output_type": "stream",
     "text": [
      "GRUP_A: Statistics=0.758, p=0.000\n",
      "örneklem model nromal(Gausssian) dağılımdan gelmemektedir (reject H0)\n"
     ]
    }
   ],
   "source": [
    "from scipy.stats import shapiro \n",
    "stat, p = shapiro(bad.debtinc)\n",
    "print('GRUP_A:','Statistics=%.3f, p=%.3f' % (stat,p))  #Statistics alanı veren nokta\n",
    "\n",
    "alpha=0.05\n",
    "if p>alpha:\n",
    "    print('örneklem model normal(Gaussian) dağılımdan gelmektedir (Fall to reject)')\n",
    "else:\n",
    "    print('örneklem model nromal(Gausssian) dağılımdan gelmemektedir (reject H0)')"
   ]
  },
  {
   "cell_type": "code",
   "execution_count": 144,
   "metadata": {},
   "outputs": [
    {
     "name": "stdout",
     "output_type": "stream",
     "text": [
      "GRUP_A: Statistics=0.953, p=0.000\n",
      "örneklem model nromal(Gausssian) dağılımdan gelmemektedir (reject H0)\n"
     ]
    }
   ],
   "source": [
    "from scipy.stats import shapiro \n",
    "stat, p = shapiro(good.debtinc)\n",
    "print('GRUP_A:','Statistics=%.3f, p=%.3f' % (stat,p))  #Statistics alanı veren nokta\n",
    "\n",
    "alpha=0.05\n",
    "if p>alpha:\n",
    "    print('örneklem model normal(Gaussian) dağılımdan gelmektedir (Fall to reject)')\n",
    "else:\n",
    "    print('örneklem model nromal(Gausssian) dağılımdan gelmemektedir (reject H0)')"
   ]
  },
  {
   "cell_type": "code",
   "execution_count": 145,
   "metadata": {},
   "outputs": [
    {
     "name": "stdout",
     "output_type": "stream",
     "text": [
      "Statistics=115.704, p=0.000\n",
      "örneklem Sabit Varyansa sabit değildir (reject H0)\n"
     ]
    }
   ],
   "source": [
    "from scipy.stats import levene\n",
    "stat, p = levene(bad.debtinc, good.debtinc) #equal variance test\n",
    "print('Statistics=%.3f, p=%.3f' % (stat,p))\n",
    "#interpret\n",
    "alpha=0.05\n",
    "if p>alpha:\n",
    "    print('örneklem Sabit Varyansa sabittir (Fall to reject)')\n",
    "else:\n",
    "    print('örneklem Sabit Varyansa sabit değildir (reject H0)')"
   ]
  },
  {
   "cell_type": "code",
   "execution_count": 146,
   "metadata": {},
   "outputs": [
    {
     "data": {
      "text/plain": [
       "Ttest_indResult(statistic=5.60876061364227, pvalue=7.481950355766323e-08)"
      ]
     },
     "execution_count": 146,
     "metadata": {},
     "output_type": "execute_result"
    }
   ],
   "source": [
    "stats.ttest_ind(bad.debtinc, good.debtinc, equal_var = False)"
   ]
  },
  {
   "cell_type": "code",
   "execution_count": 148,
   "metadata": {},
   "outputs": [],
   "source": [
    "import matplotlib.pyplot as plt"
   ]
  },
  {
   "cell_type": "code",
   "execution_count": 149,
   "metadata": {},
   "outputs": [],
   "source": [
    "import seaborn as sns"
   ]
  },
  {
   "cell_type": "code",
   "execution_count": 151,
   "metadata": {},
   "outputs": [
    {
     "data": {
      "text/plain": [
       "<matplotlib.axes._subplots.AxesSubplot at 0x1bed6af6ba8>"
      ]
     },
     "execution_count": 151,
     "metadata": {},
     "output_type": "execute_result"
    },
    {
     "data": {
      "image/png": "[encoded data removed]",
      "text/plain": [
       "<Figure size 2160x2880 with 10 Axes>"
      ]
     },
     "metadata": {
      "needs_background": "light"
     },
     "output_type": "display_data"
    }
   ],
   "source": [
    "# visualizing numeric variables using seaborn\n",
    "f, axes = plt.subplots(5, 2, figsize=(30,40))\n",
    "sns.boxplot( x='bad', y='mortdue', data=hmelq, ax=axes[0, 0])\n",
    "sns.boxplot( x='bad', y='loan', data=hmelq, ax=axes[0, 1])\n",
    "sns.boxplot( x='bad', y='value', data=hmelq, ax=axes[1, 0])\n",
    "sns.boxplot( x='bad', y='yoj', data=hmelq, ax=axes[1, 1])\n",
    "sns.boxplot( x='bad', y='derog', data=hmelq, ax=axes[2, 0])\n",
    "sns.boxplot( x='bad', y='delinq', data=hmelq, ax=axes[2, 1])\n",
    "sns.boxplot( x='bad', y='clage', data=hmelq, ax=axes[3, 0])\n",
    "sns.boxplot( x='bad', y='ninq', data=hmelq, ax=axes[3, 1])\n",
    "sns.boxplot( x='bad', y='clno', data=hmelq, ax=axes[4, 0])\n",
    "sns.boxplot( x='bad', y='debtinc', data=hmelq, ax=axes[4, 1])"
   ]
  },
  {
   "cell_type": "code",
   "execution_count": null,
   "metadata": {},
   "outputs": [],
   "source": [
    "#Burdan sonra kafam karıştı"
   ]
  },
  {
   "cell_type": "code",
   "execution_count": 5,
   "metadata": {},
   "outputs": [
    {
     "data": {
      "text/html": [
       "<div>\n",
       "<style scoped>\n",
       "    .dataframe tbody tr th:only-of-type {\n",
       "        vertical-align: middle;\n",
       "    }\n",
       "\n",
       "    .dataframe tbody tr th {\n",
       "        vertical-align: top;\n",
       "    }\n",
       "\n",
       "    .dataframe thead th {\n",
       "        text-align: right;\n",
       "    }\n",
       "</style>\n",
       "<table border=\"1\" class=\"dataframe\">\n",
       "  <thead>\n",
       "    <tr style=\"text-align: right;\">\n",
       "      <th></th>\n",
       "      <th>bad</th>\n",
       "      <th>loan</th>\n",
       "      <th>mortdue</th>\n",
       "      <th>value</th>\n",
       "      <th>reason</th>\n",
       "      <th>job</th>\n",
       "      <th>yoj</th>\n",
       "      <th>derog</th>\n",
       "      <th>delinq</th>\n",
       "      <th>clage</th>\n",
       "      <th>ninq</th>\n",
       "      <th>clno</th>\n",
       "      <th>debtinc</th>\n",
       "    </tr>\n",
       "  </thead>\n",
       "  <tbody>\n",
       "    <tr>\n",
       "      <th>0</th>\n",
       "      <td>0</td>\n",
       "      <td>81200</td>\n",
       "      <td>18834.0</td>\n",
       "      <td>108355.0</td>\n",
       "      <td>HomeImp</td>\n",
       "      <td>NaN</td>\n",
       "      <td>28.0</td>\n",
       "      <td>0.0</td>\n",
       "      <td>0.0</td>\n",
       "      <td>139.14</td>\n",
       "      <td>0.0</td>\n",
       "      <td>14.0</td>\n",
       "      <td>34.042</td>\n",
       "    </tr>\n",
       "    <tr>\n",
       "      <th>1</th>\n",
       "      <td>0</td>\n",
       "      <td>12600</td>\n",
       "      <td>103960.0</td>\n",
       "      <td>127384.0</td>\n",
       "      <td>DebtCon</td>\n",
       "      <td>NaN</td>\n",
       "      <td>2.0</td>\n",
       "      <td>0.0</td>\n",
       "      <td>0.0</td>\n",
       "      <td>129.02</td>\n",
       "      <td>0.0</td>\n",
       "      <td>25.0</td>\n",
       "      <td>34.479</td>\n",
       "    </tr>\n",
       "    <tr>\n",
       "      <th>2</th>\n",
       "      <td>0</td>\n",
       "      <td>18000</td>\n",
       "      <td>46865.0</td>\n",
       "      <td>61266.0</td>\n",
       "      <td>DebtCon</td>\n",
       "      <td>NaN</td>\n",
       "      <td>5.0</td>\n",
       "      <td>0.0</td>\n",
       "      <td>0.0</td>\n",
       "      <td>102.59</td>\n",
       "      <td>2.0</td>\n",
       "      <td>9.0</td>\n",
       "      <td>26.354</td>\n",
       "    </tr>\n",
       "    <tr>\n",
       "      <th>3</th>\n",
       "      <td>0</td>\n",
       "      <td>10300</td>\n",
       "      <td>57676.0</td>\n",
       "      <td>71027.0</td>\n",
       "      <td>DebtCon</td>\n",
       "      <td>NaN</td>\n",
       "      <td>19.0</td>\n",
       "      <td>0.0</td>\n",
       "      <td>0.0</td>\n",
       "      <td>157.52</td>\n",
       "      <td>1.0</td>\n",
       "      <td>11.0</td>\n",
       "      <td>33.992</td>\n",
       "    </tr>\n",
       "    <tr>\n",
       "      <th>4</th>\n",
       "      <td>0</td>\n",
       "      <td>9400</td>\n",
       "      <td>56508.0</td>\n",
       "      <td>78358.0</td>\n",
       "      <td>DebtCon</td>\n",
       "      <td>NaN</td>\n",
       "      <td>17.0</td>\n",
       "      <td>0.0</td>\n",
       "      <td>0.0</td>\n",
       "      <td>141.93</td>\n",
       "      <td>0.0</td>\n",
       "      <td>11.0</td>\n",
       "      <td>32.327</td>\n",
       "    </tr>\n",
       "  </tbody>\n",
       "</table>\n",
       "</div>"
      ],
      "text/plain": [
       "   bad   loan   mortdue     value   reason  job   yoj  derog  delinq   clage  \\\n",
       "0    0  81200   18834.0  108355.0  HomeImp  NaN  28.0    0.0     0.0  139.14   \n",
       "1    0  12600  103960.0  127384.0  DebtCon  NaN   2.0    0.0     0.0  129.02   \n",
       "2    0  18000   46865.0   61266.0  DebtCon  NaN   5.0    0.0     0.0  102.59   \n",
       "3    0  10300   57676.0   71027.0  DebtCon  NaN  19.0    0.0     0.0  157.52   \n",
       "4    0   9400   56508.0   78358.0  DebtCon  NaN  17.0    0.0     0.0  141.93   \n",
       "\n",
       "   ninq  clno  debtinc  \n",
       "0   0.0  14.0   34.042  \n",
       "1   0.0  25.0   34.479  \n",
       "2   2.0   9.0   26.354  \n",
       "3   1.0  11.0   33.992  \n",
       "4   0.0  11.0   32.327  "
      ]
     },
     "execution_count": 5,
     "metadata": {},
     "output_type": "execute_result"
    }
   ],
   "source": [
    "import pandas \n",
    "hmelq = pandas.read_csv(\"hmelq.csv\")\n",
    "hmelq.head()"
   ]
  },
  {
   "cell_type": "code",
   "execution_count": 6,
   "metadata": {},
   "outputs": [],
   "source": [
    "bad = hmelq[hmelq['bad'] == 1]\n",
    "good = hmelq[hmelq['bad'] == 0]"
   ]
  },
  {
   "cell_type": "code",
   "execution_count": 7,
   "metadata": {},
   "outputs": [
    {
     "data": {
      "text/html": [
       "<div>\n",
       "<style scoped>\n",
       "    .dataframe tbody tr th:only-of-type {\n",
       "        vertical-align: middle;\n",
       "    }\n",
       "\n",
       "    .dataframe tbody tr th {\n",
       "        vertical-align: top;\n",
       "    }\n",
       "\n",
       "    .dataframe thead th {\n",
       "        text-align: right;\n",
       "    }\n",
       "</style>\n",
       "<table border=\"1\" class=\"dataframe\">\n",
       "  <thead>\n",
       "    <tr style=\"text-align: right;\">\n",
       "      <th>loan</th>\n",
       "      <th>1100</th>\n",
       "      <th>1300</th>\n",
       "      <th>1500</th>\n",
       "      <th>1700</th>\n",
       "      <th>1800</th>\n",
       "      <th>2000</th>\n",
       "      <th>2100</th>\n",
       "      <th>2200</th>\n",
       "      <th>2300</th>\n",
       "      <th>2400</th>\n",
       "      <th>...</th>\n",
       "      <th>81200</th>\n",
       "      <th>81400</th>\n",
       "      <th>82200</th>\n",
       "      <th>87500</th>\n",
       "      <th>88800</th>\n",
       "      <th>88900</th>\n",
       "      <th>89000</th>\n",
       "      <th>89200</th>\n",
       "      <th>89800</th>\n",
       "      <th>89900</th>\n",
       "    </tr>\n",
       "  </thead>\n",
       "  <tbody>\n",
       "    <tr>\n",
       "      <th>good</th>\n",
       "      <td>0</td>\n",
       "      <td>0</td>\n",
       "      <td>0</td>\n",
       "      <td>1</td>\n",
       "      <td>0</td>\n",
       "      <td>1</td>\n",
       "      <td>0</td>\n",
       "      <td>0</td>\n",
       "      <td>1</td>\n",
       "      <td>0</td>\n",
       "      <td>...</td>\n",
       "      <td>1</td>\n",
       "      <td>2</td>\n",
       "      <td>2</td>\n",
       "      <td>1</td>\n",
       "      <td>1</td>\n",
       "      <td>1</td>\n",
       "      <td>1</td>\n",
       "      <td>1</td>\n",
       "      <td>1</td>\n",
       "      <td>1</td>\n",
       "    </tr>\n",
       "    <tr>\n",
       "      <th>bad</th>\n",
       "      <td>1</td>\n",
       "      <td>1</td>\n",
       "      <td>1</td>\n",
       "      <td>1</td>\n",
       "      <td>2</td>\n",
       "      <td>3</td>\n",
       "      <td>1</td>\n",
       "      <td>3</td>\n",
       "      <td>2</td>\n",
       "      <td>3</td>\n",
       "      <td>...</td>\n",
       "      <td>0</td>\n",
       "      <td>0</td>\n",
       "      <td>0</td>\n",
       "      <td>0</td>\n",
       "      <td>0</td>\n",
       "      <td>0</td>\n",
       "      <td>0</td>\n",
       "      <td>0</td>\n",
       "      <td>0</td>\n",
       "      <td>0</td>\n",
       "    </tr>\n",
       "  </tbody>\n",
       "</table>\n",
       "<p>2 rows × 474 columns</p>\n",
       "</div>"
      ],
      "text/plain": [
       "loan  1100   1300   1500   1700   1800   2000   2100   2200   2300   2400   \\\n",
       "good      0      0      0      1      0      1      0      0      1      0   \n",
       "bad       1      1      1      1      2      3      1      3      2      3   \n",
       "\n",
       "loan  ...  81200  81400  82200  87500  88800  88900  89000  89200  89800  \\\n",
       "good  ...      1      2      2      1      1      1      1      1      1   \n",
       "bad   ...      0      0      0      0      0      0      0      0      0   \n",
       "\n",
       "loan  89900  \n",
       "good      1  \n",
       "bad       0  \n",
       "\n",
       "[2 rows x 474 columns]"
      ]
     },
     "execution_count": 7,
     "metadata": {},
     "output_type": "execute_result"
    }
   ],
   "source": [
    "import numpy as np\n",
    "import pandas as pd\n",
    "bad_loan= pd.crosstab(index=hmelq[\"bad\"],columns=hmelq[\"loan\"])\n",
    "bad_loan.index =[\"good\",\"bad\"]\n",
    "bad_loan"
   ]
  },
  {
   "cell_type": "code",
   "execution_count": 9,
   "metadata": {},
   "outputs": [
    {
     "data": {
      "text/html": [
       "<div>\n",
       "<style scoped>\n",
       "    .dataframe tbody tr th:only-of-type {\n",
       "        vertical-align: middle;\n",
       "    }\n",
       "\n",
       "    .dataframe tbody tr th {\n",
       "        vertical-align: top;\n",
       "    }\n",
       "\n",
       "    .dataframe thead th {\n",
       "        text-align: right;\n",
       "    }\n",
       "</style>\n",
       "<table border=\"1\" class=\"dataframe\">\n",
       "  <thead>\n",
       "    <tr style=\"text-align: right;\">\n",
       "      <th>value</th>\n",
       "      <th>8800.0</th>\n",
       "      <th>9500.0</th>\n",
       "      <th>11550.0</th>\n",
       "      <th>11702.0</th>\n",
       "      <th>12414.0</th>\n",
       "      <th>12737.0</th>\n",
       "      <th>13770.0</th>\n",
       "      <th>13930.0</th>\n",
       "      <th>14100.0</th>\n",
       "      <th>14580.0</th>\n",
       "      <th>...</th>\n",
       "      <th>305514.0</th>\n",
       "      <th>308600.0</th>\n",
       "      <th>364000.0</th>\n",
       "      <th>465000.0</th>\n",
       "      <th>466731.0</th>\n",
       "      <th>467112.0</th>\n",
       "      <th>469748.0</th>\n",
       "      <th>511164.0</th>\n",
       "      <th>512650.0</th>\n",
       "      <th>850000.0</th>\n",
       "    </tr>\n",
       "  </thead>\n",
       "  <tbody>\n",
       "    <tr>\n",
       "      <th>good</th>\n",
       "      <td>0</td>\n",
       "      <td>0</td>\n",
       "      <td>0</td>\n",
       "      <td>0</td>\n",
       "      <td>1</td>\n",
       "      <td>1</td>\n",
       "      <td>0</td>\n",
       "      <td>1</td>\n",
       "      <td>0</td>\n",
       "      <td>1</td>\n",
       "      <td>...</td>\n",
       "      <td>0</td>\n",
       "      <td>0</td>\n",
       "      <td>0</td>\n",
       "      <td>1</td>\n",
       "      <td>1</td>\n",
       "      <td>1</td>\n",
       "      <td>1</td>\n",
       "      <td>0</td>\n",
       "      <td>0</td>\n",
       "      <td>0</td>\n",
       "    </tr>\n",
       "    <tr>\n",
       "      <th>bad</th>\n",
       "      <td>1</td>\n",
       "      <td>1</td>\n",
       "      <td>1</td>\n",
       "      <td>1</td>\n",
       "      <td>0</td>\n",
       "      <td>0</td>\n",
       "      <td>1</td>\n",
       "      <td>0</td>\n",
       "      <td>1</td>\n",
       "      <td>0</td>\n",
       "      <td>...</td>\n",
       "      <td>1</td>\n",
       "      <td>1</td>\n",
       "      <td>1</td>\n",
       "      <td>0</td>\n",
       "      <td>0</td>\n",
       "      <td>0</td>\n",
       "      <td>0</td>\n",
       "      <td>1</td>\n",
       "      <td>1</td>\n",
       "      <td>1</td>\n",
       "    </tr>\n",
       "  </tbody>\n",
       "</table>\n",
       "<p>2 rows × 3302 columns</p>\n",
       "</div>"
      ],
      "text/plain": [
       "value  8800.0    9500.0    11550.0   11702.0   12414.0   12737.0   13770.0   \\\n",
       "good          0         0         0         0         1         1         0   \n",
       "bad           1         1         1         1         0         0         1   \n",
       "\n",
       "value  13930.0   14100.0   14580.0   ...  305514.0  308600.0  364000.0  \\\n",
       "good          1         0         1  ...         0         0         0   \n",
       "bad           0         1         0  ...         1         1         1   \n",
       "\n",
       "value  465000.0  466731.0  467112.0  469748.0  511164.0  512650.0  850000.0  \n",
       "good          1         1         1         1         0         0         0  \n",
       "bad           0         0         0         0         1         1         1  \n",
       "\n",
       "[2 rows x 3302 columns]"
      ]
     },
     "execution_count": 9,
     "metadata": {},
     "output_type": "execute_result"
    }
   ],
   "source": [
    "import numpy as np\n",
    "import pandas as pd\n",
    "bad_value= pd.crosstab(index=hmelq[\"bad\"],columns=hmelq[\"value\"])\n",
    "bad_value.index =[\"good\",\"bad\"]\n",
    "bad_value"
   ]
  },
  {
   "cell_type": "code",
   "execution_count": 11,
   "metadata": {},
   "outputs": [
    {
     "data": {
      "text/html": [
       "<div>\n",
       "<style scoped>\n",
       "    .dataframe tbody tr th:only-of-type {\n",
       "        vertical-align: middle;\n",
       "    }\n",
       "\n",
       "    .dataframe tbody tr th {\n",
       "        vertical-align: top;\n",
       "    }\n",
       "\n",
       "    .dataframe thead th {\n",
       "        text-align: right;\n",
       "    }\n",
       "</style>\n",
       "<table border=\"1\" class=\"dataframe\">\n",
       "  <thead>\n",
       "    <tr style=\"text-align: right;\">\n",
       "      <th></th>\n",
       "      <th>HomeImp</th>\n",
       "      <th>DebtCon</th>\n",
       "    </tr>\n",
       "  </thead>\n",
       "  <tbody>\n",
       "    <tr>\n",
       "      <th>good</th>\n",
       "      <td>1931</td>\n",
       "      <td>814</td>\n",
       "    </tr>\n",
       "    <tr>\n",
       "      <th>bad</th>\n",
       "      <td>440</td>\n",
       "      <td>244</td>\n",
       "    </tr>\n",
       "  </tbody>\n",
       "</table>\n",
       "</div>"
      ],
      "text/plain": [
       "      HomeImp  DebtCon\n",
       "good     1931      814\n",
       "bad       440      244"
      ]
     },
     "execution_count": 11,
     "metadata": {},
     "output_type": "execute_result"
    }
   ],
   "source": [
    "bad_reason= pd.crosstab(index=hmelq[\"bad\"],columns=hmelq[\"reason\"])\n",
    "bad_reason.columns=[\"HomeImp\",\"DebtCon\"]\n",
    "bad_reason.index=[\"good\",\"bad\"]\n",
    "bad_reason"
   ]
  },
  {
   "cell_type": "code",
   "execution_count": 13,
   "metadata": {},
   "outputs": [],
   "source": [
    "char_job= hmelq[\"job\"].astype(str)"
   ]
  },
  {
   "cell_type": "code",
   "execution_count": 15,
   "metadata": {},
   "outputs": [],
   "source": [
    "new_job = np.array([job[0]for job in char_job])\n",
    "hmelq['job'] = pd.Categorical(new_job)"
   ]
  },
  {
   "cell_type": "code",
   "execution_count": 17,
   "metadata": {},
   "outputs": [
    {
     "data": {
      "text/html": [
       "<div>\n",
       "<style scoped>\n",
       "    .dataframe tbody tr th:only-of-type {\n",
       "        vertical-align: middle;\n",
       "    }\n",
       "\n",
       "    .dataframe tbody tr th {\n",
       "        vertical-align: top;\n",
       "    }\n",
       "\n",
       "    .dataframe thead th {\n",
       "        text-align: right;\n",
       "    }\n",
       "</style>\n",
       "<table border=\"1\" class=\"dataframe\">\n",
       "  <thead>\n",
       "    <tr style=\"text-align: right;\">\n",
       "      <th></th>\n",
       "      <th>bad</th>\n",
       "      <th>loan</th>\n",
       "      <th>mortdue</th>\n",
       "      <th>value</th>\n",
       "      <th>reason</th>\n",
       "      <th>job</th>\n",
       "      <th>yoj</th>\n",
       "      <th>derog</th>\n",
       "      <th>delinq</th>\n",
       "      <th>clage</th>\n",
       "      <th>ninq</th>\n",
       "      <th>clno</th>\n",
       "      <th>debtinc</th>\n",
       "    </tr>\n",
       "  </thead>\n",
       "  <tbody>\n",
       "    <tr>\n",
       "      <th>0</th>\n",
       "      <td>0</td>\n",
       "      <td>81200</td>\n",
       "      <td>18834.0</td>\n",
       "      <td>108355.0</td>\n",
       "      <td>HomeImp</td>\n",
       "      <td>n</td>\n",
       "      <td>28.0</td>\n",
       "      <td>0.0</td>\n",
       "      <td>0.0</td>\n",
       "      <td>139.14</td>\n",
       "      <td>0.0</td>\n",
       "      <td>14.0</td>\n",
       "      <td>34.042</td>\n",
       "    </tr>\n",
       "    <tr>\n",
       "      <th>1</th>\n",
       "      <td>0</td>\n",
       "      <td>12600</td>\n",
       "      <td>103960.0</td>\n",
       "      <td>127384.0</td>\n",
       "      <td>DebtCon</td>\n",
       "      <td>n</td>\n",
       "      <td>2.0</td>\n",
       "      <td>0.0</td>\n",
       "      <td>0.0</td>\n",
       "      <td>129.02</td>\n",
       "      <td>0.0</td>\n",
       "      <td>25.0</td>\n",
       "      <td>34.479</td>\n",
       "    </tr>\n",
       "    <tr>\n",
       "      <th>2</th>\n",
       "      <td>0</td>\n",
       "      <td>18000</td>\n",
       "      <td>46865.0</td>\n",
       "      <td>61266.0</td>\n",
       "      <td>DebtCon</td>\n",
       "      <td>n</td>\n",
       "      <td>5.0</td>\n",
       "      <td>0.0</td>\n",
       "      <td>0.0</td>\n",
       "      <td>102.59</td>\n",
       "      <td>2.0</td>\n",
       "      <td>9.0</td>\n",
       "      <td>26.354</td>\n",
       "    </tr>\n",
       "    <tr>\n",
       "      <th>3</th>\n",
       "      <td>0</td>\n",
       "      <td>10300</td>\n",
       "      <td>57676.0</td>\n",
       "      <td>71027.0</td>\n",
       "      <td>DebtCon</td>\n",
       "      <td>n</td>\n",
       "      <td>19.0</td>\n",
       "      <td>0.0</td>\n",
       "      <td>0.0</td>\n",
       "      <td>157.52</td>\n",
       "      <td>1.0</td>\n",
       "      <td>11.0</td>\n",
       "      <td>33.992</td>\n",
       "    </tr>\n",
       "    <tr>\n",
       "      <th>4</th>\n",
       "      <td>0</td>\n",
       "      <td>9400</td>\n",
       "      <td>56508.0</td>\n",
       "      <td>78358.0</td>\n",
       "      <td>DebtCon</td>\n",
       "      <td>n</td>\n",
       "      <td>17.0</td>\n",
       "      <td>0.0</td>\n",
       "      <td>0.0</td>\n",
       "      <td>141.93</td>\n",
       "      <td>0.0</td>\n",
       "      <td>11.0</td>\n",
       "      <td>32.327</td>\n",
       "    </tr>\n",
       "  </tbody>\n",
       "</table>\n",
       "</div>"
      ],
      "text/plain": [
       "   bad   loan   mortdue     value   reason job   yoj  derog  delinq   clage  \\\n",
       "0    0  81200   18834.0  108355.0  HomeImp   n  28.0    0.0     0.0  139.14   \n",
       "1    0  12600  103960.0  127384.0  DebtCon   n   2.0    0.0     0.0  129.02   \n",
       "2    0  18000   46865.0   61266.0  DebtCon   n   5.0    0.0     0.0  102.59   \n",
       "3    0  10300   57676.0   71027.0  DebtCon   n  19.0    0.0     0.0  157.52   \n",
       "4    0   9400   56508.0   78358.0  DebtCon   n  17.0    0.0     0.0  141.93   \n",
       "\n",
       "   ninq  clno  debtinc  \n",
       "0   0.0  14.0   34.042  \n",
       "1   0.0  25.0   34.479  \n",
       "2   2.0   9.0   26.354  \n",
       "3   1.0  11.0   33.992  \n",
       "4   0.0  11.0   32.327  "
      ]
     },
     "execution_count": 17,
     "metadata": {},
     "output_type": "execute_result"
    }
   ],
   "source": [
    "hmelq.head()"
   ]
  },
  {
   "cell_type": "code",
   "execution_count": 18,
   "metadata": {},
   "outputs": [
    {
     "data": {
      "text/html": [
       "<div>\n",
       "<style scoped>\n",
       "    .dataframe tbody tr th:only-of-type {\n",
       "        vertical-align: middle;\n",
       "    }\n",
       "\n",
       "    .dataframe tbody tr th {\n",
       "        vertical-align: top;\n",
       "    }\n",
       "\n",
       "    .dataframe thead th {\n",
       "        text-align: right;\n",
       "    }\n",
       "</style>\n",
       "<table border=\"1\" class=\"dataframe\">\n",
       "  <thead>\n",
       "    <tr style=\"text-align: right;\">\n",
       "      <th>col_0</th>\n",
       "      <th>count</th>\n",
       "    </tr>\n",
       "    <tr>\n",
       "      <th>job</th>\n",
       "      <th></th>\n",
       "    </tr>\n",
       "  </thead>\n",
       "  <tbody>\n",
       "    <tr>\n",
       "      <th>M</th>\n",
       "      <td>461</td>\n",
       "    </tr>\n",
       "    <tr>\n",
       "      <th>O</th>\n",
       "      <td>2000</td>\n",
       "    </tr>\n",
       "    <tr>\n",
       "      <th>P</th>\n",
       "      <td>767</td>\n",
       "    </tr>\n",
       "    <tr>\n",
       "      <th>S</th>\n",
       "      <td>181</td>\n",
       "    </tr>\n",
       "    <tr>\n",
       "      <th>n</th>\n",
       "      <td>167</td>\n",
       "    </tr>\n",
       "  </tbody>\n",
       "</table>\n",
       "</div>"
      ],
      "text/plain": [
       "col_0  count\n",
       "job         \n",
       "M        461\n",
       "O       2000\n",
       "P        767\n",
       "S        181\n",
       "n        167"
      ]
     },
     "execution_count": 18,
     "metadata": {},
     "output_type": "execute_result"
    }
   ],
   "source": [
    "my_tab = pd.crosstab(index=hmelq[\"bad\"], columns = \"count\") \n",
    "my_tab\n",
    "pd.crosstab(index=hmelq[\"job\"], columns=\"count\")"
   ]
  },
  {
   "cell_type": "code",
   "execution_count": 20,
   "metadata": {},
   "outputs": [
    {
     "data": {
      "text/html": [
       "<div>\n",
       "<style scoped>\n",
       "    .dataframe tbody tr th:only-of-type {\n",
       "        vertical-align: middle;\n",
       "    }\n",
       "\n",
       "    .dataframe tbody tr th {\n",
       "        vertical-align: top;\n",
       "    }\n",
       "\n",
       "    .dataframe thead th {\n",
       "        text-align: right;\n",
       "    }\n",
       "</style>\n",
       "<table border=\"1\" class=\"dataframe\">\n",
       "  <thead>\n",
       "    <tr style=\"text-align: right;\">\n",
       "      <th>bad</th>\n",
       "      <th>0</th>\n",
       "      <th>1</th>\n",
       "    </tr>\n",
       "    <tr>\n",
       "      <th>job</th>\n",
       "      <th></th>\n",
       "      <th></th>\n",
       "    </tr>\n",
       "  </thead>\n",
       "  <tbody>\n",
       "    <tr>\n",
       "      <th>M</th>\n",
       "      <td>354</td>\n",
       "      <td>107</td>\n",
       "    </tr>\n",
       "    <tr>\n",
       "      <th>O</th>\n",
       "      <td>1593</td>\n",
       "      <td>407</td>\n",
       "    </tr>\n",
       "    <tr>\n",
       "      <th>P</th>\n",
       "      <td>639</td>\n",
       "      <td>128</td>\n",
       "    </tr>\n",
       "    <tr>\n",
       "      <th>S</th>\n",
       "      <td>124</td>\n",
       "      <td>57</td>\n",
       "    </tr>\n",
       "    <tr>\n",
       "      <th>n</th>\n",
       "      <td>153</td>\n",
       "      <td>14</td>\n",
       "    </tr>\n",
       "  </tbody>\n",
       "</table>\n",
       "</div>"
      ],
      "text/plain": [
       "bad     0    1\n",
       "job           \n",
       "M     354  107\n",
       "O    1593  407\n",
       "P     639  128\n",
       "S     124   57\n",
       "n     153   14"
      ]
     },
     "execution_count": 20,
     "metadata": {},
     "output_type": "execute_result"
    }
   ],
   "source": [
    "my_tab = pd.crosstab(index=hmelq[\"bad\"], columns = \"count\")\n",
    "my_tab\n",
    "pd.crosstab(index=hmelq[\"job\"], columns=hmelq[\"bad\"])"
   ]
  },
  {
   "cell_type": "code",
   "execution_count": 22,
   "metadata": {},
   "outputs": [
    {
     "data": {
      "text/html": [
       "<div>\n",
       "<style scoped>\n",
       "    .dataframe tbody tr th:only-of-type {\n",
       "        vertical-align: middle;\n",
       "    }\n",
       "\n",
       "    .dataframe tbody tr th {\n",
       "        vertical-align: top;\n",
       "    }\n",
       "\n",
       "    .dataframe thead th {\n",
       "        text-align: right;\n",
       "    }\n",
       "</style>\n",
       "<table border=\"1\" class=\"dataframe\">\n",
       "  <thead>\n",
       "    <tr style=\"text-align: right;\">\n",
       "      <th>reason</th>\n",
       "      <th>DebtCon</th>\n",
       "      <th>HomeImp</th>\n",
       "      <th>All</th>\n",
       "    </tr>\n",
       "    <tr>\n",
       "      <th>bad</th>\n",
       "      <th></th>\n",
       "      <th></th>\n",
       "      <th></th>\n",
       "    </tr>\n",
       "  </thead>\n",
       "  <tbody>\n",
       "    <tr>\n",
       "      <th>0</th>\n",
       "      <td>1931</td>\n",
       "      <td>814</td>\n",
       "      <td>2745</td>\n",
       "    </tr>\n",
       "    <tr>\n",
       "      <th>1</th>\n",
       "      <td>440</td>\n",
       "      <td>244</td>\n",
       "      <td>684</td>\n",
       "    </tr>\n",
       "    <tr>\n",
       "      <th>All</th>\n",
       "      <td>2371</td>\n",
       "      <td>1058</td>\n",
       "      <td>3429</td>\n",
       "    </tr>\n",
       "  </tbody>\n",
       "</table>\n",
       "</div>"
      ],
      "text/plain": [
       "reason  DebtCon  HomeImp   All\n",
       "bad                           \n",
       "0          1931      814  2745\n",
       "1           440      244   684\n",
       "All        2371     1058  3429"
      ]
     },
     "execution_count": 22,
     "metadata": {},
     "output_type": "execute_result"
    }
   ],
   "source": [
    "bad_reason= pd.crosstab(index=hmelq[\"bad\"], columns=hmelq[\"reason\"],margins = True)         \n",
    "\n",
    "bad_reason"
   ]
  },
  {
   "cell_type": "code",
   "execution_count": 26,
   "metadata": {},
   "outputs": [
    {
     "name": "stderr",
     "output_type": "stream",
     "text": [
      "C:\\Users\\Hakan\\Anaconda3\\lib\\site-packages\\ipykernel_launcher.py:5: DeprecationWarning: \n",
      ".ix is deprecated. Please use\n",
      ".loc for label based indexing or\n",
      ".iloc for positional indexing\n",
      "\n",
      "See the documentation here:\n",
      "http://pandas.pydata.org/pandas-docs/stable/indexing.html#ix-indexer-is-deprecated\n",
      "  \"\"\"\n"
     ]
    },
    {
     "data": {
      "text/html": [
       "<div>\n",
       "<style scoped>\n",
       "    .dataframe tbody tr th:only-of-type {\n",
       "        vertical-align: middle;\n",
       "    }\n",
       "\n",
       "    .dataframe tbody tr th {\n",
       "        vertical-align: top;\n",
       "    }\n",
       "\n",
       "    .dataframe thead th {\n",
       "        text-align: right;\n",
       "    }\n",
       "</style>\n",
       "<table border=\"1\" class=\"dataframe\">\n",
       "  <thead>\n",
       "    <tr style=\"text-align: right;\">\n",
       "      <th></th>\n",
       "      <th>HomeImp</th>\n",
       "      <th>DebtCon</th>\n",
       "      <th>rowtotal</th>\n",
       "    </tr>\n",
       "  </thead>\n",
       "  <tbody>\n",
       "    <tr>\n",
       "      <th>good</th>\n",
       "      <td>0.563138</td>\n",
       "      <td>0.237387</td>\n",
       "      <td>0.800525</td>\n",
       "    </tr>\n",
       "    <tr>\n",
       "      <th>bad</th>\n",
       "      <td>0.128317</td>\n",
       "      <td>0.071158</td>\n",
       "      <td>0.199475</td>\n",
       "    </tr>\n",
       "    <tr>\n",
       "      <th>coltotal</th>\n",
       "      <td>0.691455</td>\n",
       "      <td>0.308545</td>\n",
       "      <td>1.000000</td>\n",
       "    </tr>\n",
       "  </tbody>\n",
       "</table>\n",
       "</div>"
      ],
      "text/plain": [
       "           HomeImp   DebtCon  rowtotal\n",
       "good      0.563138  0.237387  0.800525\n",
       "bad       0.128317  0.071158  0.199475\n",
       "coltotal  0.691455  0.308545  1.000000"
      ]
     },
     "execution_count": 26,
     "metadata": {},
     "output_type": "execute_result"
    }
   ],
   "source": [
    "bad_reason.columns=[\"HomeImp\",\"DebtCon\",\"rowtotal\"]\n",
    "bad_reason.index=[\"good\",\"bad\",\"coltotal\"]\n",
    "\n",
    "bad_reason\n",
    "bad_reason/bad_reason.ix[\"coltotal\",\"rowtotal\"]"
   ]
  },
  {
   "cell_type": "code",
   "execution_count": 30,
   "metadata": {},
   "outputs": [
    {
     "name": "stdout",
     "output_type": "stream",
     "text": [
      "bad                                                      713\n",
      "loan                                                66262200\n",
      "mortdue                                          2.41433e+08\n",
      "value                                            3.54982e+08\n",
      "job        nnnnnnnnnnnnnnnnnnnnnnnnnnnnnnnnnnnnnnnnnnnnnn...\n",
      "yoj                                                  28829.8\n",
      "derog                                                    824\n",
      "delinq                                                  1395\n",
      "clage                                                 610891\n",
      "ninq                                                    3883\n",
      "clno                                                   74049\n",
      "debtinc                                              95033.4\n",
      "dtype: object\n",
      "bad             0.199385\n",
      "loan        18529.697987\n",
      "mortdue     74013.907992\n",
      "value      101076.922759\n",
      "yoj             8.832644\n",
      "derog           0.261670\n",
      "delinq          0.432558\n",
      "clage         179.832529\n",
      "ninq            1.186373\n",
      "clno           21.507116\n",
      "debtinc        33.831737\n",
      "dtype: float64\n",
      "bad            0.399594\n",
      "loan       11262.834060\n",
      "mortdue    44016.833772\n",
      "value      54865.275351\n",
      "yoj            7.568046\n",
      "derog          0.865178\n",
      "delinq         1.099230\n",
      "clage         87.066198\n",
      "ninq           1.728723\n",
      "clno          10.167490\n",
      "debtinc        9.061837\n",
      "dtype: float64\n",
      "               bad          loan        mortdue          value          yoj  \\\n",
      "count  3576.000000   3576.000000    3262.000000    3512.000000  3264.000000   \n",
      "mean      0.199385  18529.697987   74013.907992  101076.922759     8.832644   \n",
      "std       0.399594  11262.834060   44016.833772   54865.275351     7.568046   \n",
      "min       0.000000   1100.000000    2619.000000    8800.000000     0.000000   \n",
      "25%       0.000000  11000.000000   46700.250000   65753.000000     3.000000   \n",
      "50%       0.000000  16200.000000   65858.000000   89183.000000     7.000000   \n",
      "75%       0.000000  23100.000000   91717.000000  118928.250000    13.000000   \n",
      "max       1.000000  89900.000000  399550.000000  850000.000000    41.000000   \n",
      "\n",
      "             derog       delinq        clage         ninq         clno  \\\n",
      "count  3149.000000  3225.000000  3397.000000  3273.000000  3443.000000   \n",
      "mean      0.261670     0.432558   179.832529     1.186373    21.507116   \n",
      "std       0.865178     1.099230    87.066198     1.728723    10.167490   \n",
      "min       0.000000     0.000000     0.490000     0.000000     0.000000   \n",
      "25%       0.000000     0.000000   115.600000     0.000000    15.000000   \n",
      "50%       0.000000     0.000000   173.640000     1.000000    20.000000   \n",
      "75%       0.000000     0.000000   230.710000     2.000000    26.000000   \n",
      "max      10.000000    15.000000  1168.230000    17.000000    71.000000   \n",
      "\n",
      "           debtinc  \n",
      "count  2809.000000  \n",
      "mean     33.831737  \n",
      "std       9.061837  \n",
      "min       0.720000  \n",
      "25%      29.140000  \n",
      "50%      34.747000  \n",
      "75%      38.940000  \n",
      "max     203.312000  \n"
     ]
    }
   ],
   "source": [
    "print(hmelq.sum())\n",
    "print(hmelq.mean())\n",
    "print(hmelq.std())\n",
    "print(hmelq.describe())"
   ]
  },
  {
   "cell_type": "code",
   "execution_count": 32,
   "metadata": {},
   "outputs": [
    {
     "name": "stdout",
     "output_type": "stream",
     "text": [
      "                bad          loan        mortdue          value   reason  \\\n",
      "count   3576.000000   3576.000000    3262.000000    3512.000000     3429   \n",
      "unique          NaN           NaN            NaN            NaN        2   \n",
      "top             NaN           NaN            NaN            NaN  DebtCon   \n",
      "freq            NaN           NaN            NaN            NaN     2371   \n",
      "mean       0.199385  18529.697987   74013.907992  101076.922759      NaN   \n",
      "std        0.399594  11262.834060   44016.833772   54865.275351      NaN   \n",
      "min        0.000000   1100.000000    2619.000000    8800.000000      NaN   \n",
      "25%        0.000000  11000.000000   46700.250000   65753.000000      NaN   \n",
      "50%        0.000000  16200.000000   65858.000000   89183.000000      NaN   \n",
      "75%        0.000000  23100.000000   91717.000000  118928.250000      NaN   \n",
      "max        1.000000  89900.000000  399550.000000  850000.000000      NaN   \n",
      "\n",
      "         job          yoj        derog       delinq        clage         ninq  \\\n",
      "count   3576  3264.000000  3149.000000  3225.000000  3397.000000  3273.000000   \n",
      "unique     5          NaN          NaN          NaN          NaN          NaN   \n",
      "top        O          NaN          NaN          NaN          NaN          NaN   \n",
      "freq    2000          NaN          NaN          NaN          NaN          NaN   \n",
      "mean     NaN     8.832644     0.261670     0.432558   179.832529     1.186373   \n",
      "std      NaN     7.568046     0.865178     1.099230    87.066198     1.728723   \n",
      "min      NaN     0.000000     0.000000     0.000000     0.490000     0.000000   \n",
      "25%      NaN     3.000000     0.000000     0.000000   115.600000     0.000000   \n",
      "50%      NaN     7.000000     0.000000     0.000000   173.640000     1.000000   \n",
      "75%      NaN    13.000000     0.000000     0.000000   230.710000     2.000000   \n",
      "max      NaN    41.000000    10.000000    15.000000  1168.230000    17.000000   \n",
      "\n",
      "               clno      debtinc  \n",
      "count   3443.000000  2809.000000  \n",
      "unique          NaN          NaN  \n",
      "top             NaN          NaN  \n",
      "freq            NaN          NaN  \n",
      "mean      21.507116    33.831737  \n",
      "std       10.167490     9.061837  \n",
      "min        0.000000     0.720000  \n",
      "25%       15.000000    29.140000  \n",
      "50%       20.000000    34.747000  \n",
      "75%       26.000000    38.940000  \n",
      "max       71.000000   203.312000  \n"
     ]
    }
   ],
   "source": [
    "print(hmelq. describe(include=\"all\"))\n"
   ]
  },
  {
   "cell_type": "code",
   "execution_count": 34,
   "metadata": {},
   "outputs": [
    {
     "data": {
      "text/plain": [
       "[Text(0, 0.5, 'Frekans'), Text(0.5, 0, 'Normal')]"
      ]
     },
     "execution_count": 34,
     "metadata": {},
     "output_type": "execute_result"
    },
    {
     "data": {
      "image/png": "[encoded data removed]",
      "text/plain": [
       "<Figure size 432x288 with 1 Axes>"
      ]
     },
     "metadata": {
      "needs_background": "light"
     },
     "output_type": "display_data"
    }
   ],
   "source": [
    "from scipy.stats import norm\n",
    "import seaborn as sns\n",
    "veri_normal = norm.rvs (size=10000,loc=0,scale=1)\n",
    "\n",
    "ax=sns.distplot(veri_normal)\n",
    "ax=sns.distplot(veri_normal, bins=100, kde=False, color =\"black\", hist_kws={\"linewidth\":15,\"alpha\":1})\n",
    "\n",
    "ax.set(xlabel=\"Normal\",ylabel=\"Frekans\")"
   ]
  },
  {
   "cell_type": "code",
   "execution_count": 36,
   "metadata": {},
   "outputs": [
    {
     "data": {
      "text/plain": [
       "<matplotlib.axes._subplots.AxesSubplot at 0x1fc3e891208>"
      ]
     },
     "execution_count": 36,
     "metadata": {},
     "output_type": "execute_result"
    },
    {
     "data": {
      "image/png": "[encoded data removed]",
      "text/plain": [
       "<Figure size 432x288 with 1 Axes>"
      ]
     },
     "metadata": {
      "needs_background": "light"
     },
     "output_type": "display_data"
    }
   ],
   "source": [
    "hmelq.boxplot()"
   ]
  },
  {
   "cell_type": "code",
   "execution_count": null,
   "metadata": {},
   "outputs": [],
   "source": []
  }
 ],
 "metadata": {
  "kernelspec": {
   "display_name": "Python 3",
   "language": "python",
   "name": "python3"
  },
  "language_info": {
   "codemirror_mode": {
    "name": "ipython",
    "version": 3
   },
   "file_extension": ".py",
   "mimetype": "text/x-python",
   "name": "python",
   "nbconvert_exporter": "python",
   "pygments_lexer": "ipython3",
   "version": "3.7.3"
  }
 },
 "nbformat": 4,
 "nbformat_minor": 2
}
