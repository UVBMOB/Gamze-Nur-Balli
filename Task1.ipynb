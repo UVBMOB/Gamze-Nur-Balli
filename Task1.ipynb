{
 "cells": [
  {
   "cell_type": "code",
   "execution_count": 20,
   "metadata": {},
   "outputs": [
    {
     "name": "stdout",
     "output_type": "stream",
     "text": [
      "0.17603266338214976 0.30853753872598694\n"
     ]
    }
   ],
   "source": [
    "import math\n",
    "class Dist :\n",
    "         def __init__(self, mean, sigma, x):\n",
    "               self.mean = mean\n",
    "               self.sigma = sigma\n",
    "               self.x = x\n",
    "         def generate_data_pdf(self):\n",
    "                 return(1/(self.sigma*math.sqrt(2*math.pi)))*(math.e**(-((self.x-self.mean)**2)/(2*(self.sigma)**2)))\n",
    "        \n",
    "        \n",
    "         def generate_data_cdf(self):\n",
    "                 return 0.5*(1+math.erf((self.x-self.mean)/(self.sigma*math.sqrt(2))))\n",
    "                \n",
    "deneme = Dist(10,2,9)\n",
    "data_pdf = deneme.generate_data_pdf()\n",
    "data_cdf = deneme.generate_data_cdf()\n",
    "print(str(data_pdf)+ \" \"+ str(data_cdf))"
   ]
  }
 ],
 "metadata": {
  "kernelspec": {
   "display_name": "Python 3",
   "language": "python",
   "name": "python3"
  },
  "language_info": {
   "codemirror_mode": {
    "name": "ipython",
    "version": 3
   },
   "file_extension": ".py",
   "mimetype": "text/x-python",
   "name": "python",
   "nbconvert_exporter": "python",
   "pygments_lexer": "ipython3",
   "version": "3.7.3"
  }
 },
 "nbformat": 4,
 "nbformat_minor": 2
}
